{
 "cells": [
  {
   "cell_type": "code",
   "execution_count": 2,
   "id": "8de8cf97-7d8e-4538-8336-06ea279bdcae",
   "metadata": {},
   "outputs": [
    {
     "name": "stdout",
     "output_type": "stream",
     "text": [
      "* \n",
      "* * \n",
      "* * * \n",
      "* * * * \n",
      "* * * * * \n"
     ]
    }
   ],
   "source": [
    "#1st Question number \n",
    "#code:\n",
    "n=5\n",
    "for i in range(1,6):\n",
    "    for j in range(i):\n",
    "        print('*',end=\" \")\n",
    "    print()"
   ]
  },
  {
   "cell_type": "code",
   "execution_count": 4,
   "id": "47bba27a-3fa0-4323-925e-d153386af954",
   "metadata": {},
   "outputs": [
    {
     "name": "stdout",
     "output_type": "stream",
     "text": [
      "* * * * * \n",
      "* * * * \n",
      "* * * \n",
      "* * \n",
      "* \n"
     ]
    }
   ],
   "source": [
    "#2nd Question number \n",
    "#code:\n",
    "n=5\n",
    "for i in range(5,0,-1):\n",
    "    for j in range(i):\n",
    "        print('*',end =\" \")\n",
    "    print()"
   ]
  },
  {
   "cell_type": "code",
   "execution_count": 5,
   "id": "abc528bc-f6f3-4756-83df-1ae8efe5c5cd",
   "metadata": {},
   "outputs": [
    {
     "name": "stdout",
     "output_type": "stream",
     "text": [
      "1 \n",
      "2 2 \n",
      "3 3 3 \n",
      "4 4 4 4 \n"
     ]
    }
   ],
   "source": [
    "#3rd Question number \n",
    "#code:\n",
    "for i in range(1,5):\n",
    "    for j in range(i):\n",
    "        print(i,end=\" \")\n",
    "    print()"
   ]
  },
  {
   "cell_type": "code",
   "execution_count": 6,
   "id": "62b2f8fb-44fb-4013-bce4-f3dfcd9c045d",
   "metadata": {},
   "outputs": [
    {
     "name": "stdout",
     "output_type": "stream",
     "text": [
      "1 \n",
      "1 2 \n",
      "1 2 3 \n",
      "1 2 3 4 \n",
      "1 2 3 4 5 \n"
     ]
    }
   ],
   "source": [
    "#4th Question number \n",
    "#code:\n",
    "n=5\n",
    "for i in range(1,6):\n",
    "    for j in range(1,i+1):\n",
    "        print(j,end=\" \")\n",
    "    print()"
   ]
  },
  {
   "cell_type": "code",
   "execution_count": 7,
   "id": "3303ff85-3447-495d-9df2-4e91a34387f5",
   "metadata": {},
   "outputs": [
    {
     "name": "stdout",
     "output_type": "stream",
     "text": [
      "5 4 3 2 1 \n",
      "4 3 2 1 \n",
      "3 2 1 \n",
      "2 1 \n",
      "1 \n"
     ]
    }
   ],
   "source": [
    "#5th Question number \n",
    "#code:\n",
    "n=5\n",
    "for i in range(5,0,-1):\n",
    "    for j in range(i,0,-1):\n",
    "        print(j,end=\" \")\n",
    "    print()"
   ]
  },
  {
   "cell_type": "code",
   "execution_count": 9,
   "id": "bc418bfc-128a-4e8c-9c3d-fbaa186ddc2b",
   "metadata": {},
   "outputs": [
    {
     "name": "stdout",
     "output_type": "stream",
     "text": [
      "* * * * * \n",
      "*       * \n",
      "*       * \n",
      "*       * \n",
      "* * * * * \n"
     ]
    }
   ],
   "source": [
    "#6th Question number \n",
    "#code:\n",
    "n=5\n",
    "for i in range(5):\n",
    "    for j in range(5):\n",
    "        if i==0 or i==5-1 or j==0 or j==5-1:\n",
    "            print(\"*\",end=\" \")\n",
    "        else:\n",
    "            print(\" \",end=\" \")\n",
    "    print()"
   ]
  },
  {
   "cell_type": "code",
   "execution_count": 10,
   "id": "3707a2ec-7046-4fe5-8ec8-b4a3a6f1f0cf",
   "metadata": {},
   "outputs": [
    {
     "name": "stdout",
     "output_type": "stream",
     "text": [
      "  * \n",
      " * * \n",
      "* * * \n",
      " * * \n",
      "  * \n",
      "   \n"
     ]
    }
   ],
   "source": [
    "#7th Question number \n",
    "#code:\n",
    "for i in range(1,4):\n",
    "    for j in range(1,4-i):\n",
    "        print(end=\" \")\n",
    "    for j in range(1,i+1):\n",
    "        print('*',end=\" \")\n",
    "    print()\n",
    "for i in range(1,4):\n",
    "    for j in range(1,i+1):\n",
    "        print(end=\" \")\n",
    "    for j in range(1,4-i):\n",
    "        print('*',end=\" \")\n",
    "    print()"
   ]
  },
  {
   "cell_type": "code",
   "execution_count": 12,
   "id": "80ad0e3f-5345-4aea-bcac-900f7ea7316d",
   "metadata": {},
   "outputs": [
    {
     "name": "stdin",
     "output_type": "stream",
     "text": [
      "enter the number of rows: 5\n"
     ]
    },
    {
     "name": "stdout",
     "output_type": "stream",
     "text": [
      "    1 \n",
      "   1 1 \n",
      "  1 2 1 \n",
      " 1 3 3 1 \n",
      "1 4 6 4 1 \n"
     ]
    }
   ],
   "source": [
    "#8th Question number \n",
    "#code:\n",
    "n=int(input(\"enter the number of rows:\"))\n",
    "for i in range(n):\n",
    "    value=1\n",
    "    for j in range(n-i-1):\n",
    "        print(\" \",end=\"\")\n",
    "    for j in range(i+1):\n",
    "        print(value,end=\" \")\n",
    "        value=value*(i-j)//(j+1)\n",
    "    print()"
   ]
  },
  {
   "cell_type": "code",
   "execution_count": 13,
   "id": "354e5ae7-4732-4c1d-b569-aad033d11d77",
   "metadata": {},
   "outputs": [
    {
     "name": "stdin",
     "output_type": "stream",
     "text": [
      "enter a number 3\n"
     ]
    },
    {
     "name": "stdout",
     "output_type": "stream",
     "text": [
      "2\n"
     ]
    }
   ],
   "source": [
    "#9th Question number \n",
    "#code:\n",
    "n=int(input(\"enter a number\"))\n",
    "sum=0\n",
    "for i in range(2,n+1,2):\n",
    "    if i%2==0:\n",
    "        sum+=i\n",
    "print(sum)"
   ]
  },
  {
   "cell_type": "code",
   "execution_count": 17,
   "id": "a1fb3c57-f322-4d47-a564-fef07200a9b1",
   "metadata": {},
   "outputs": [
    {
     "name": "stdin",
     "output_type": "stream",
     "text": [
      " 5\n"
     ]
    },
    {
     "name": "stdout",
     "output_type": "stream",
     "text": [
      "120\n"
     ]
    }
   ],
   "source": [
    "#10th Question number \n",
    "#code:\n",
    "n=int(input())\n",
    "f=1\n",
    "if n<0:\n",
    "    print(\"negative number\")\n",
    "elif n==0 or n==1:\n",
    "    print(\"factorial is 1\")\n",
    "else:\n",
    "    for i in range(1,n+1):\n",
    "        f*=i\n",
    "    print(f)"
   ]
  },
  {
   "cell_type": "code",
   "execution_count": 18,
   "id": "3a8aa4fc-0414-48b0-8574-42a3ba732eee",
   "metadata": {},
   "outputs": [
    {
     "name": "stdin",
     "output_type": "stream",
     "text": [
      " 9\n"
     ]
    },
    {
     "name": "stdout",
     "output_type": "stream",
     "text": [
      "prime\n",
      "not prime\n"
     ]
    }
   ],
   "source": [
    "#11th Question number \n",
    "#code:\n",
    "def prime(n):\n",
    "    if n>1:\n",
    "        for i in range(2,n):\n",
    "            if n%i==0:\n",
    "                print(\"not prime\")\n",
    "                break\n",
    "            else:\n",
    "                print(\"prime\")\n",
    "    else:\n",
    "         print(\"not prime\")\n",
    "n=int(input())\n",
    "prime(n)"
   ]
  },
  {
   "cell_type": "code",
   "execution_count": 20,
   "id": "37ad88d1-4b4e-47df-9ca9-839f9fc6e252",
   "metadata": {},
   "outputs": [
    {
     "name": "stdin",
     "output_type": "stream",
     "text": [
      " 6\n"
     ]
    },
    {
     "name": "stdout",
     "output_type": "stream",
     "text": [
      "0\n"
     ]
    }
   ],
   "source": [
    "#12th Question number \n",
    "#code:\n",
    "str=input()\n",
    "str.lower()\n",
    "c=0\n",
    "for i in str:\n",
    "    if i=='a' or i=='e' or i=='i' or i=='o' or i=='u':\n",
    "        c+=1\n",
    "print(c)"
   ]
  },
  {
   "cell_type": "code",
   "execution_count": 21,
   "id": "26191e97-ff56-4594-a8aa-e3ee00c709c5",
   "metadata": {},
   "outputs": [
    {
     "name": "stdin",
     "output_type": "stream",
     "text": [
      "enter a string: jesh\n"
     ]
    },
    {
     "name": "stdout",
     "output_type": "stream",
     "text": [
      " hsej\n"
     ]
    }
   ],
   "source": [
    "#13th Question number \n",
    "#code:\n",
    "def reversed(s):\n",
    "    reversed_str=\" \"\n",
    "    for i in range(len(s)-1,-1,-1):\n",
    "        reversed_str+=s[i]\n",
    "    return reversed_str\n",
    "s=input(\"enter a string:\")\n",
    "reversed_s=reversed(s)\n",
    "print(reversed_s)"
   ]
  },
  {
   "cell_type": "code",
   "execution_count": 22,
   "id": "ab5016b9-5114-4461-b7f3-54829a099023",
   "metadata": {},
   "outputs": [
    {
     "name": "stdin",
     "output_type": "stream",
     "text": [
      " maan\n"
     ]
    },
    {
     "name": "stdout",
     "output_type": "stream",
     "text": [
      "m\n",
      "ma\n",
      "maa\n",
      "maan\n",
      "a\n",
      "aa\n",
      "aan\n",
      "a\n",
      "an\n",
      "n\n"
     ]
    }
   ],
   "source": [
    "#14th Question number \n",
    "#code:\n",
    "string=input()\n",
    "for i in range(len(string)):\n",
    "    for j in range(i+1,len(string)+1):\n",
    "        print(string[i:j])"
   ]
  },
  {
   "cell_type": "code",
   "execution_count": 23,
   "id": "0ff06ad7-7c97-4a5a-b3ec-38044f57c6f1",
   "metadata": {},
   "outputs": [
    {
     "name": "stdin",
     "output_type": "stream",
     "text": [
      " jeshwanthika\n"
     ]
    },
    {
     "name": "stdout",
     "output_type": "stream",
     "text": [
      "j:1\n",
      "e:1\n",
      "s:1\n",
      "h:2\n",
      "w:1\n",
      "a:2\n",
      "n:1\n",
      "t:1\n",
      "i:1\n",
      "k:1\n"
     ]
    }
   ],
   "source": [
    "#15th Question number \n",
    "#code:\n",
    "string=input()\n",
    "char_frequency={}\n",
    "for char in string:\n",
    "    if char in char_frequency:\n",
    "        char_frequency[char]+=1\n",
    "    else:\n",
    "        char_frequency[char]=1\n",
    "for char,freq in char_frequency.items():\n",
    "    print(f\"{char}:{freq}\")"
   ]
  },
  {
   "cell_type": "code",
   "execution_count": 24,
   "id": "1bd63b46-7398-44ac-9d43-9304dfcc9752",
   "metadata": {},
   "outputs": [
    {
     "name": "stdout",
     "output_type": "stream",
     "text": [
      "0 1 1 2 3 5 8 13 21 34 "
     ]
    }
   ],
   "source": [
    "#16th Question number \n",
    "#code:\n",
    "def fib(n):\n",
    "    a=0\n",
    "    b=1\n",
    "    for i in range(0,n):\n",
    "        print(a,end=\" \")\n",
    "        a,b=b,a+b\n",
    "fib(10)"
   ]
  },
  {
   "cell_type": "code",
   "execution_count": 26,
   "id": "bee878ae-0520-4c54-9daf-ea5e65acee4b",
   "metadata": {},
   "outputs": [
    {
     "name": "stdout",
     "output_type": "stream",
     "text": [
      "  1   2   3   4   5   6   7   8   9  10 \n",
      "  2   4   6   8  10  12  14  16  18  20 \n",
      "  3   6   9  12  15  18  21  24  27  30 \n",
      "  4   8  12  16  20  24  28  32  36  40 \n",
      "  5  10  15  20  25  30  35  40  45  50 \n",
      "  6  12  18  24  30  36  42  48  54  60 \n",
      "  7  14  21  28  35  42  49  56  63  70 \n",
      "  8  16  24  32  40  48  56  64  72  80 \n",
      "  9  18  27  36  45  54  63  72  81  90 \n",
      " 10  20  30  40  50  60  70  80  90 100 \n"
     ]
    }
   ],
   "source": [
    "#17th Question number \n",
    "#code:\n",
    "for i in range(1,10+1):\n",
    "    for j in range(1,10+1):\n",
    "        print(f\"{i*j:3}\",end=\" \")\n",
    "    print()"
   ]
  },
  {
   "cell_type": "code",
   "execution_count": 29,
   "id": "4aad1ea1-ed1e-4abf-b895-6a1aadec5826",
   "metadata": {},
   "outputs": [
    {
     "name": "stdin",
     "output_type": "stream",
     "text": [
      " 3\n"
     ]
    },
    {
     "name": "stdout",
     "output_type": "stream",
     "text": [
      "1 2 3 \n",
      "4 5 6 \n",
      "7 8 9 \n"
     ]
    }
   ],
   "source": [
    "#18th Question number \n",
    "#code:\n",
    "n=int(input())\n",
    "num=1\n",
    "for i in range(n):\n",
    "    for j in range(n):\n",
    "        print(num,end=\" \")\n",
    "        num+=1\n",
    "    print()"
   ]
  },
  {
   "cell_type": "code",
   "execution_count": null,
   "id": "63276a4d-3cef-47e4-ae7b-a12302320ed1",
   "metadata": {},
   "outputs": [],
   "source": []
  }
 ],
 "metadata": {
  "kernelspec": {
   "display_name": "Python 3 (ipykernel)",
   "language": "python",
   "name": "python3"
  },
  "language_info": {
   "codemirror_mode": {
    "name": "ipython",
    "version": 3
   },
   "file_extension": ".py",
   "mimetype": "text/x-python",
   "name": "python",
   "nbconvert_exporter": "python",
   "pygments_lexer": "ipython3",
   "version": "3.12.4"
  }
 },
 "nbformat": 4,
 "nbformat_minor": 5
}
